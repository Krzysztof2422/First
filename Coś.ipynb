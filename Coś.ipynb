{
  "nbformat": 4,
  "nbformat_minor": 0,
  "metadata": {
    "colab": {
      "name": "Coś.ipynb",
      "provenance": [],
      "collapsed_sections": [],
      "authorship_tag": "ABX9TyOI6Itxx3mg/eK9lzrFpgsL",
      "include_colab_link": true
    },
    "kernelspec": {
      "name": "python3",
      "display_name": "Python 3"
    }
  },
  "cells": [
    {
      "cell_type": "markdown",
      "metadata": {
        "id": "view-in-github",
        "colab_type": "text"
      },
      "source": [
        "<a href=\"https://colab.research.google.com/github/Krzysztof2422/First/blob/master/Co%C5%9B.ipynb\" target=\"_parent\"><img src=\"https://colab.research.google.com/assets/colab-badge.svg\" alt=\"Open In Colab\"/></a>"
      ]
    },
    {
      "cell_type": "code",
      "metadata": {
        "id": "DoBBKdsmoshj",
        "colab_type": "code",
        "colab": {}
      },
      "source": [
        "import numpy as np\n",
        "import pandas as pd\n",
        "\n",
        "from sklearn.tree import DecisionTreeRegressor\n",
        "from sklearn.ensemble import RandomForestRegressor\n",
        "from sklearn.model_selection import cross_val_score\n",
        "\n",
        "%matplotlib inline"
      ],
      "execution_count": 8,
      "outputs": []
    },
    {
      "cell_type": "code",
      "metadata": {
        "id": "ulAJBigLo2-H",
        "colab_type": "code",
        "colab": {
          "base_uri": "https://localhost:8080/",
          "height": 204
        },
        "outputId": "55d2031f-2650-453d-b1fc-236f7b7310a4"
      },
      "source": [
        "df = pd.read_csv(\"https://raw.githubusercontent.com/aczepielik/KRKtram/master/reports/report_07-23.csv\")\n",
        "df.head()"
      ],
      "execution_count": 9,
      "outputs": [
        {
          "output_type": "execute_result",
          "data": {
            "text/html": [
              "<div>\n",
              "<style scoped>\n",
              "    .dataframe tbody tr th:only-of-type {\n",
              "        vertical-align: middle;\n",
              "    }\n",
              "\n",
              "    .dataframe tbody tr th {\n",
              "        vertical-align: top;\n",
              "    }\n",
              "\n",
              "    .dataframe thead th {\n",
              "        text-align: right;\n",
              "    }\n",
              "</style>\n",
              "<table border=\"1\" class=\"dataframe\">\n",
              "  <thead>\n",
              "    <tr style=\"text-align: right;\">\n",
              "      <th></th>\n",
              "      <th>index</th>\n",
              "      <th>time_stamp</th>\n",
              "      <th>stop</th>\n",
              "      <th>stopName</th>\n",
              "      <th>number</th>\n",
              "      <th>direction</th>\n",
              "      <th>plannedTime</th>\n",
              "      <th>vehicleId</th>\n",
              "      <th>tripId</th>\n",
              "      <th>status</th>\n",
              "      <th>delay</th>\n",
              "      <th>seq_num</th>\n",
              "    </tr>\n",
              "  </thead>\n",
              "  <tbody>\n",
              "    <tr>\n",
              "      <th>0</th>\n",
              "      <td>1</td>\n",
              "      <td>2018-07-23 06:00:45</td>\n",
              "      <td>378</td>\n",
              "      <td>Os.Piastów</td>\n",
              "      <td>21</td>\n",
              "      <td>Kopiec Wandy</td>\n",
              "      <td>2018-07-23 05:59:00</td>\n",
              "      <td>NaN</td>\n",
              "      <td>6351558574044883205</td>\n",
              "      <td>PLANNED</td>\n",
              "      <td>1</td>\n",
              "      <td>1.0</td>\n",
              "    </tr>\n",
              "    <tr>\n",
              "      <th>1</th>\n",
              "      <td>1</td>\n",
              "      <td>2018-07-23 06:00:47</td>\n",
              "      <td>612</td>\n",
              "      <td>Borsucza</td>\n",
              "      <td>22</td>\n",
              "      <td>Walcownia</td>\n",
              "      <td>2018-07-23 06:00:00</td>\n",
              "      <td>6.352185e+18</td>\n",
              "      <td>6351558574044899587</td>\n",
              "      <td>STOPPING</td>\n",
              "      <td>0</td>\n",
              "      <td>7.0</td>\n",
              "    </tr>\n",
              "    <tr>\n",
              "      <th>2</th>\n",
              "      <td>1</td>\n",
              "      <td>2018-07-23 06:00:48</td>\n",
              "      <td>572</td>\n",
              "      <td>Smolki</td>\n",
              "      <td>11</td>\n",
              "      <td>Czerwone Maki P+R</td>\n",
              "      <td>2018-07-23 06:00:00</td>\n",
              "      <td>6.352185e+18</td>\n",
              "      <td>6351558574044670211</td>\n",
              "      <td>STOPPING</td>\n",
              "      <td>0</td>\n",
              "      <td>10.0</td>\n",
              "    </tr>\n",
              "    <tr>\n",
              "      <th>3</th>\n",
              "      <td>1</td>\n",
              "      <td>2018-07-23 06:00:49</td>\n",
              "      <td>319</td>\n",
              "      <td>Jubilat</td>\n",
              "      <td>1</td>\n",
              "      <td>Wzgórza K.</td>\n",
              "      <td>2018-07-23 05:59:00</td>\n",
              "      <td>NaN</td>\n",
              "      <td>6351558574044363010</td>\n",
              "      <td>PLANNED</td>\n",
              "      <td>1</td>\n",
              "      <td>3.0</td>\n",
              "    </tr>\n",
              "    <tr>\n",
              "      <th>4</th>\n",
              "      <td>1</td>\n",
              "      <td>2018-07-23 06:00:49</td>\n",
              "      <td>322</td>\n",
              "      <td>Filharmonia</td>\n",
              "      <td>8</td>\n",
              "      <td>Bronowice Małe</td>\n",
              "      <td>2018-07-23 06:01:00</td>\n",
              "      <td>6.352185e+18</td>\n",
              "      <td>6351558574044592386</td>\n",
              "      <td>STOPPING</td>\n",
              "      <td>0</td>\n",
              "      <td>15.0</td>\n",
              "    </tr>\n",
              "  </tbody>\n",
              "</table>\n",
              "</div>"
            ],
            "text/plain": [
              "   index           time_stamp  stop  ...    status  delay seq_num\n",
              "0      1  2018-07-23 06:00:45   378  ...   PLANNED      1     1.0\n",
              "1      1  2018-07-23 06:00:47   612  ...  STOPPING      0     7.0\n",
              "2      1  2018-07-23 06:00:48   572  ...  STOPPING      0    10.0\n",
              "3      1  2018-07-23 06:00:49   319  ...   PLANNED      1     3.0\n",
              "4      1  2018-07-23 06:00:49   322  ...  STOPPING      0    15.0\n",
              "\n",
              "[5 rows x 12 columns]"
            ]
          },
          "metadata": {
            "tags": []
          },
          "execution_count": 9
        }
      ]
    },
    {
      "cell_type": "code",
      "metadata": {
        "id": "YknH57eFqQuD",
        "colab_type": "code",
        "colab": {
          "base_uri": "https://localhost:8080/",
          "height": 265
        },
        "outputId": "7a0dc239-3ded-4c24-ab36-d62507b4188e"
      },
      "source": [
        "df.delay.hist();"
      ],
      "execution_count": 11,
      "outputs": [
        {
          "output_type": "display_data",
          "data": {
            "image/png": "[encoded data removed]",
            "text/plain": [
              "<Figure size 432x288 with 1 Axes>"
            ]
          },
          "metadata": {
            "tags": [],
            "needs_background": "light"
          }
        }
      ]
    },
    {
      "cell_type": "code",
      "metadata": {
        "id": "LjNeRPwnqbb5",
        "colab_type": "code",
        "colab": {}
      },
      "source": [
        ""
      ],
      "execution_count": null,
      "outputs": []
    }
  ]
}